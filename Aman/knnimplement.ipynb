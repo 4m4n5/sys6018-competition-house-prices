{
 "cells": [
  {
   "cell_type": "code",
   "execution_count": 2,
   "metadata": {},
   "outputs": [],
   "source": [
    "import math\n",
    "import operator\n",
    "import numpy as np\n",
    "\n",
    "class KnnBase(object):\n",
    "    def __init__(self, k, p, weights=None):\n",
    "        self.k = k\n",
    "        self.p = p\n",
    "        self.weights = np.array(range(k+1, 1, -1))/sum(np.array(range(k+1, 1, -1)))\n",
    "\n",
    "    def euclidean_distance(self, data_point1, data_point2):\n",
    "        if len(data_point1) != len(data_point2) :\n",
    "            raise ValueError('feature length not matching')\n",
    "        else:\n",
    "            distance = 0\n",
    "            for x in range(len(data_point1)):\n",
    "                distance += pow((data_point1[x] - data_point2[x]), 2)\n",
    "            return math.sqrt(distance)\n",
    "    def fit(self, train_feature, train_label):\n",
    "        self.train_feature = train_feature\n",
    "        self.train_label = train_label\n",
    "\n",
    "    def get_neighbors(self, train_set, test_set, k):\n",
    "        ''' return k closet neighbour of test_set in training set'''\n",
    "        # calculate euclidean distance\n",
    "        euc_distance = np.sum((train_set - test_set)**2 , axis=1)\n",
    "        # return the index of nearest neighbour\n",
    "        return np.argsort(euc_distance)[0:k], np.sort(euc_distance)[0:k]\n"
   ]
  },
  {
   "cell_type": "code",
   "execution_count": 11,
   "metadata": {},
   "outputs": [],
   "source": [
    "class KnnRegression(KnnBase):\n",
    "\n",
    "    def predict(self, test_feature_data_point):\n",
    "        nearest_data_point_index, nearest_data_point_dists = self.get_neighbors(self.train_feature, test_feature_data_point, self.k)\n",
    "        total_val = 0.0\n",
    "        dist_weights = np.power((1. / nearest_data_point_dists), self.p) / np.sum(np.power((1. / nearest_data_point_dists), self.p))  \n",
    "        # calculate the sum of all the label values\n",
    "#         for index in nearest_data_point_index:\n",
    "#             total_val += self.train_label[index]\n",
    "        for index, value in enumerate(nearest_data_point_index):\n",
    "            total_val += dist_weights[index]*self.train_label[value]\n",
    "        return total_val"
   ]
  },
  {
   "cell_type": "code",
   "execution_count": 12,
   "metadata": {},
   "outputs": [],
   "source": [
    "def get_rmse(y, y_pred):\n",
    "    '''Root Mean Square Error\n",
    "    https://en.wikipedia.org/wiki/Root-mean-square_deviation\n",
    "    '''\n",
    "    mse = np.mean((y - y_pred)**2)\n",
    "    return np.sqrt(mse)\n",
    "\n",
    "def get_mape(y, y_pred):\n",
    "    '''Mean Absolute Percent Error\n",
    "    https://en.wikipedia.org/wiki/Mean_absolute_percentage_error\n",
    "    '''\n",
    "    perc_err = (100*(y - y_pred))/y\n",
    "    return np.mean(abs(perc_err))\n",
    "\n",
    "def get_accuracy(y, y_pred):\n",
    "    cnt = (y == y_pred).sum()\n",
    "    return round(cnt/len(y), 2)"
   ]
  },
  {
   "cell_type": "code",
   "execution_count": null,
   "metadata": {},
   "outputs": [],
   "source": []
  }
 ],
 "metadata": {
  "kernelspec": {
   "display_name": "Python 3",
   "language": "python",
   "name": "python3"
  },
  "language_info": {
   "codemirror_mode": {
    "name": "ipython",
    "version": 3
   },
   "file_extension": ".py",
   "mimetype": "text/x-python",
   "name": "python",
   "nbconvert_exporter": "python",
   "pygments_lexer": "ipython3",
   "version": "3.6.5"
  }
 },
 "nbformat": 4,
 "nbformat_minor": 2
}
